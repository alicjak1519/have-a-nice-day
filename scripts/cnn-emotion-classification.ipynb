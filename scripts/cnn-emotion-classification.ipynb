{
 "cells": [
  {
   "cell_type": "markdown",
   "metadata": {},
   "source": [
    "## **Convolutional Neural Network**\n",
    "### Why Convolutional Neural Network?\n",
    "\n",
    "Inspiration: [Facial Expression Recognition Based on TensorFlow Platform ](https://www.itm-conferences.org/articles/itmconf/pdf/2017/04/itmconf_ita2017_01005.pdf)\n",
    "\n",
    "This article describes achiving a mean accuracy of 97,81% in emotion recognition usig CNN method and transfer learning techniques, not included in this notebook. In reaching so high accuracy contributed usage of the large and high quality dataset [CK+](https://ieeexplore.ieee.org/document/5543262).\n",
    "\n",
    "Model created in this notebook uses reccomended in the Tensorflow documentation parameters."
   ]
  },
  {
   "cell_type": "code",
   "execution_count": 13,
   "metadata": {},
   "outputs": [],
   "source": [
    "import ast\n",
    "import pandas as pd\n",
    "import numpy as np\n",
    "from matplotlib import pyplot as plt\n",
    "\n",
    "import tensorflow as tf\n",
    "from tensorflow import keras\n",
    "from tensorflow.keras import layers\n",
    "from tensorflow.keras.models import Sequential"
   ]
  },
  {
   "cell_type": "markdown",
   "metadata": {},
   "source": [
    "### Load data from the file\n",
    "After preprocessing data using data-preprocessing.ipynb there is possibility to download pickle with emotion label, usage and array with image pixels."
   ]
  },
  {
   "cell_type": "code",
   "execution_count": null,
   "metadata": {},
   "outputs": [],
   "source": [
    "df = pd.read_pickle(\"../data/icml_face_data_procc.csv\")\n",
    "df.head()"
   ]
  },
  {
   "cell_type": "markdown",
   "metadata": {},
   "source": [
    "### Preparing data\n",
    "\n",
    "In this notebook data splitting is done using feature 'usage' provided by dataset author. Then data are transformed into readable for NN numpy array format."
   ]
  },
  {
   "cell_type": "code",
   "execution_count": 22,
   "metadata": {},
   "outputs": [],
   "source": [
    "df_train = df.loc[df['usage'] == 'Training']\n",
    "df_val = df.loc[df['usage'] == 'PrivateTest']\n",
    "df_test = df.loc[df['usage'] == 'PublicTest']"
   ]
  },
  {
   "cell_type": "code",
   "execution_count": 23,
   "metadata": {},
   "outputs": [],
   "source": [
    "def create_image_and_label_arrays(df: pd.core.frame.DataFrame) -> (np.ndarray, np.ndarray):\n",
    "    images = df['pixels'].to_numpy()\n",
    "    images = np.concatenate(images).reshape((images.shape[0],48,48,1))\n",
    "    labels = df['emotion'].to_numpy()\n",
    "    return images, labels\n",
    "\n",
    "images_train, labels_train = create_image_and_label_arrays(df_train)\n",
    "images_val, labels_val = create_image_and_label_arrays(df_val)\n",
    "images_test, labels_test = create_image_and_label_arrays(df_test)"
   ]
  },
  {
   "cell_type": "markdown",
   "metadata": {},
   "source": [
    "### Let's create the model!\n",
    "Inspiratinon: [Tensorflow docs](https://www.tensorflow.org/tutorials/images/classification)"
   ]
  },
  {
   "cell_type": "code",
   "execution_count": 25,
   "metadata": {},
   "outputs": [],
   "source": [
    "emotion_classes = len(df['emotion'].unique())\n",
    "img_height, img_width = 48, 48\n",
    "\n",
    "model = Sequential([\n",
    "  layers.Conv2D(16, 3, padding='same', activation='relu', input_shape=(img_height, img_width, 1)),\n",
    "  layers.MaxPooling2D(),\n",
    "  layers.Conv2D(32, 3, padding='same', activation='relu'),\n",
    "  layers.MaxPooling2D(),\n",
    "  layers.Conv2D(64, 3, padding='same', activation='relu'),\n",
    "  layers.MaxPooling2D(),\n",
    "  layers.Flatten(),\n",
    "  layers.Dense(128, activation='relu'),\n",
    "  layers.Dense(emotion_classes)\n",
    "])"
   ]
  },
  {
   "cell_type": "code",
   "execution_count": 26,
   "metadata": {},
   "outputs": [],
   "source": [
    "model.compile(optimizer='adam',\n",
    "              loss=tf.keras.losses.SparseCategoricalCrossentropy(from_logits=True),\n",
    "              metrics=['accuracy'])"
   ]
  },
  {
   "cell_type": "code",
   "execution_count": 27,
   "metadata": {},
   "outputs": [
    {
     "name": "stdout",
     "output_type": "stream",
     "text": [
      "Model: \"sequential\"\n",
      "_________________________________________________________________\n",
      "Layer (type)                 Output Shape              Param #   \n",
      "=================================================================\n",
      "conv2d (Conv2D)              (None, 48, 48, 16)        160       \n",
      "_________________________________________________________________\n",
      "max_pooling2d (MaxPooling2D) (None, 24, 24, 16)        0         \n",
      "_________________________________________________________________\n",
      "conv2d_1 (Conv2D)            (None, 24, 24, 32)        4640      \n",
      "_________________________________________________________________\n",
      "max_pooling2d_1 (MaxPooling2 (None, 12, 12, 32)        0         \n",
      "_________________________________________________________________\n",
      "conv2d_2 (Conv2D)            (None, 12, 12, 64)        18496     \n",
      "_________________________________________________________________\n",
      "max_pooling2d_2 (MaxPooling2 (None, 6, 6, 64)          0         \n",
      "_________________________________________________________________\n",
      "flatten (Flatten)            (None, 2304)              0         \n",
      "_________________________________________________________________\n",
      "dense (Dense)                (None, 128)               295040    \n",
      "_________________________________________________________________\n",
      "dense_1 (Dense)              (None, 7)                 903       \n",
      "=================================================================\n",
      "Total params: 319,239\n",
      "Trainable params: 319,239\n",
      "Non-trainable params: 0\n",
      "_________________________________________________________________\n"
     ]
    }
   ],
   "source": [
    "model.summary()"
   ]
  },
  {
   "cell_type": "code",
   "execution_count": 28,
   "metadata": {},
   "outputs": [],
   "source": [
    "class_weight = dict(zip(range(0, 7), (((df[df['usage']=='Training']['emotion'].value_counts()).sort_index())/len(df[df['usage']=='Training']['emotion'])).tolist()))"
   ]
  },
  {
   "cell_type": "code",
   "execution_count": 29,
   "metadata": {
    "scrolled": true
   },
   "outputs": [
    {
     "name": "stdout",
     "output_type": "stream",
     "text": [
      "Epoch 1/10\n",
      "898/898 [==============================] - 26s 28ms/step - loss: 0.2732 - accuracy: 0.3050 - val_loss: 1.5544 - val_accuracy: 0.4257\n",
      "Epoch 2/10\n",
      "898/898 [==============================] - 24s 27ms/step - loss: 0.2248 - accuracy: 0.4420 - val_loss: 1.3858 - val_accuracy: 0.4737\n",
      "Epoch 3/10\n",
      "898/898 [==============================] - 25s 28ms/step - loss: 0.2032 - accuracy: 0.4955 - val_loss: 1.3285 - val_accuracy: 0.4999\n",
      "Epoch 4/10\n",
      "898/898 [==============================] - 25s 28ms/step - loss: 0.1875 - accuracy: 0.5390 - val_loss: 1.2927 - val_accuracy: 0.5074\n",
      "Epoch 5/10\n",
      "898/898 [==============================] - 24s 27ms/step - loss: 0.1734 - accuracy: 0.5766 - val_loss: 1.2867 - val_accuracy: 0.5238\n",
      "Epoch 6/10\n",
      "898/898 [==============================] - 27s 30ms/step - loss: 0.1625 - accuracy: 0.6018 - val_loss: 1.2837 - val_accuracy: 0.5297\n",
      "Epoch 7/10\n",
      "898/898 [==============================] - 24s 27ms/step - loss: 0.1502 - accuracy: 0.6326 - val_loss: 1.2781 - val_accuracy: 0.5375\n",
      "Epoch 8/10\n",
      "898/898 [==============================] - 23s 26ms/step - loss: 0.1389 - accuracy: 0.6609 - val_loss: 1.2585 - val_accuracy: 0.5394\n",
      "Epoch 9/10\n",
      "898/898 [==============================] - 25s 28ms/step - loss: 0.1298 - accuracy: 0.6820 - val_loss: 1.3394 - val_accuracy: 0.5344\n",
      "Epoch 10/10\n",
      "898/898 [==============================] - 24s 26ms/step - loss: 0.1174 - accuracy: 0.7099 - val_loss: 1.3077 - val_accuracy: 0.5391\n"
     ]
    }
   ],
   "source": [
    "# Train the model\n",
    "epochs=10\n",
    "history = model.fit(\n",
    "  images_train, labels_train,\n",
    "  validation_data=(images_val, labels_val),\n",
    "  class_weight = class_weight,\n",
    "  epochs=epochs\n",
    ")"
   ]
  },
  {
   "cell_type": "markdown",
   "metadata": {},
   "source": [
    "### Validation\n",
    "After training the model, its accuracy is measured."
   ]
  },
  {
   "cell_type": "code",
   "execution_count": 30,
   "metadata": {},
   "outputs": [
    {
     "data": {
      "image/png": "[encoded data removed]",
      "text/plain": [
       "<Figure size 576x576 with 2 Axes>"
      ]
     },
     "metadata": {
      "needs_background": "light"
     },
     "output_type": "display_data"
    }
   ],
   "source": [
    "acc = history.history['accuracy']\n",
    "val_acc = history.history['val_accuracy']\n",
    "\n",
    "loss = history.history['loss']\n",
    "val_loss = history.history['val_loss']\n",
    "\n",
    "epochs_range = range(epochs)\n",
    "\n",
    "plt.figure(figsize=(8, 8))\n",
    "plt.subplot(1, 2, 1)\n",
    "plt.plot(epochs_range, acc, label='Training Accuracy')\n",
    "plt.plot(epochs_range, val_acc, label='Validation Accuracy')\n",
    "plt.legend(loc='lower right')\n",
    "plt.title('Training and Validation Accuracy')\n",
    "\n",
    "plt.subplot(1, 2, 2)\n",
    "plt.plot(epochs_range, loss, label='Training Loss')\n",
    "plt.plot(epochs_range, val_loss, label='Validation Loss')\n",
    "plt.legend(loc='upper right')\n",
    "plt.title('Training and Validation Loss')\n",
    "plt.show()"
   ]
  },
  {
   "cell_type": "markdown",
   "metadata": {},
   "source": [
    "### Summary\n",
    "In the pictures we can see that at the beginning a validation accuracy is close to the training one, but then they become so divergent.\n",
    "This model needs a lot of improvement and research to gain accuracy mentioned in the article."
   ]
  }
 ],
 "metadata": {
  "kernelspec": {
   "display_name": "venv",
   "language": "python",
   "name": "venv"
  },
  "language_info": {
   "codemirror_mode": {
    "name": "ipython",
    "version": 3
   },
   "file_extension": ".py",
   "mimetype": "text/x-python",
   "name": "python",
   "nbconvert_exporter": "python",
   "pygments_lexer": "ipython3",
   "version": "3.6.8"
  }
 },
 "nbformat": 4,
 "nbformat_minor": 4
}
